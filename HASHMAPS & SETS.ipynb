{
 "cells": [
  {
   "cell_type": "markdown",
   "id": "6c698d88",
   "metadata": {},
   "source": [
    "NUMBER OF JEWELS IN STONES"
   ]
  },
  {
   "cell_type": "code",
   "execution_count": 1,
   "id": "b01110f2",
   "metadata": {},
   "outputs": [
    {
     "name": "stdout",
     "output_type": "stream",
     "text": [
      "3\n"
     ]
    }
   ],
   "source": [
    "def numJewelsInStones(jewels, stones):\n",
    "    count=0\n",
    "    k=set(jewels)\n",
    "    for j in stones:\n",
    "        if j in k:\n",
    "            count=count+1\n",
    "    return count\n",
    "print(numJewelsInStones(jewels=\"aA\",stones=\"aAAbbbb\"))\n"
   ]
  },
  {
   "cell_type": "markdown",
   "id": "d7110b78",
   "metadata": {},
   "source": [
    "CONTAINING DUPLICATE OR NOT"
   ]
  },
  {
   "cell_type": "code",
   "execution_count": 1,
   "id": "9d0e9740",
   "metadata": {},
   "outputs": [
    {
     "name": "stdout",
     "output_type": "stream",
     "text": [
      "True\n"
     ]
    }
   ],
   "source": [
    "def containsDuplicate(nums):\n",
    "\n",
    "    s=set()\n",
    "    for i in nums:\n",
    "        if i in s:\n",
    "            return True\n",
    "        else:\n",
    "            s.add(i)\n",
    "    return False\n",
    "print(containsDuplicate([1,2,3,1]))"
   ]
  }
 ],
 "metadata": {
  "kernelspec": {
   "display_name": "Python 3",
   "language": "python",
   "name": "python3"
  },
  "language_info": {
   "codemirror_mode": {
    "name": "ipython",
    "version": 3
   },
   "file_extension": ".py",
   "mimetype": "text/x-python",
   "name": "python",
   "nbconvert_exporter": "python",
   "pygments_lexer": "ipython3",
   "version": "3.11.5"
  }
 },
 "nbformat": 4,
 "nbformat_minor": 5
}
