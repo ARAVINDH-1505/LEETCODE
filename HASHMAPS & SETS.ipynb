{
 "cells": [
  {
   "cell_type": "markdown",
   "id": "6c698d88",
   "metadata": {},
   "source": [
    "NUMBER OF JEWELS IN STONES"
   ]
  },
  {
   "cell_type": "code",
   "execution_count": 1,
   "id": "b01110f2",
   "metadata": {},
   "outputs": [
    {
     "name": "stdout",
     "output_type": "stream",
     "text": [
      "3\n"
     ]
    }
   ],
   "source": [
    "def numJewelsInStones(jewels, stones):\n",
    "    count=0\n",
    "    k=set(jewels)\n",
    "    for j in stones:\n",
    "        if j in k:\n",
    "            count=count+1\n",
    "    return count\n",
    "print(numJewelsInStones(jewels=\"aA\",stones=\"aAAbbbb\"))\n"
   ]
  },
  {
   "cell_type": "markdown",
   "id": "d7110b78",
   "metadata": {},
   "source": [
    "CONTAINING DUPLICATE OR NOT"
   ]
  },
  {
   "cell_type": "code",
   "execution_count": 1,
   "id": "9d0e9740",
   "metadata": {},
   "outputs": [
    {
     "name": "stdout",
     "output_type": "stream",
     "text": [
      "True\n"
     ]
    }
   ],
   "source": [
    "def containsDuplicate(nums):\n",
    "\n",
    "    s=set()\n",
    "    for i in nums:\n",
    "        if i in s:\n",
    "            return True\n",
    "        else:\n",
    "            s.add(i)\n",
    "    return False\n",
    "print(containsDuplicate([1,2,3,1]))"
   ]
  },
  {
   "cell_type": "code",
   "execution_count": 10,
   "id": "841c51e8",
   "metadata": {},
   "outputs": [
    {
     "name": "stdout",
     "output_type": "stream",
     "text": [
      "7\n"
     ]
    }
   ],
   "source": [
    "def fib(n):\n",
    "    l=[0]*(n+1)\n",
    "    l[1]=1\n",
    "    for i in range(2,n+1):\n",
    "        l[i]=l[i-1]+l[i-2]\n",
    "    su=0\n",
    "    for i in l:\n",
    "        su+=i\n",
    "    return su\n",
    "print(fib(4))    "
   ]
  },
  {
   "cell_type": "code",
   "execution_count": 29,
   "id": "99b7d410",
   "metadata": {},
   "outputs": [
    {
     "name": "stdout",
     "output_type": "stream",
     "text": [
      "378\n",
      "not arm\n"
     ]
    }
   ],
   "source": [
    "n=372\n",
    "a=n\n",
    "sum=0\n",
    "while n>9:\n",
    "    temp=n%10\n",
    "    temp=temp**3\n",
    "    n=n//10\n",
    "    sum+=temp\n",
    "sum+=n**3\n",
    "print(sum)\n",
    "if sum==a:\n",
    "    print(\"armstrong\")\n",
    "else:\n",
    "    print(\"not arm\")"
   ]
  },
  {
   "cell_type": "code",
   "execution_count": 4,
   "id": "2a083a85",
   "metadata": {},
   "outputs": [
    {
     "name": "stdout",
     "output_type": "stream",
     "text": [
      "[3, 2, 1, 4]\n"
     ]
    }
   ],
   "source": [
    "l=[4,3,2,1]\n",
    "for i in range(len(l)-1):\n",
    "    if l[i]>l[i+1]:\n",
    "        l[i],l[i+1]=l[i+1],l[i]\n",
    "print(l)"
   ]
  },
  {
   "cell_type": "code",
   "execution_count": 6,
   "id": "d255540e",
   "metadata": {},
   "outputs": [
    {
     "name": "stdout",
     "output_type": "stream",
     "text": [
      "17\n"
     ]
    }
   ],
   "source": [
    "l=[2,3]\n",
    "n=10\n",
    "for i in range(4,n):\n",
    "    if i%2 !=0 and i%3 !=0:\n",
    "        l.append(i) \n",
    "sum=0\n",
    "for i in l:\n",
    "    sum+=i\n",
    "print(sum)"
   ]
  },
  {
   "cell_type": "code",
   "execution_count": 12,
   "id": "34433106",
   "metadata": {},
   "outputs": [
    {
     "data": {
      "text/plain": [
       "[[(4, 5), (2, 6)]]"
      ]
     },
     "execution_count": 12,
     "metadata": {},
     "output_type": "execute_result"
    }
   ],
   "source": [
    "l=[[]]\n",
    "l[0].append((4,5))\n",
    "l[0].append((2,6))\n",
    "l"
   ]
  },
  {
   "cell_type": "code",
   "execution_count": 6,
   "id": "d4d9fa55",
   "metadata": {},
   "outputs": [
    {
     "name": "stdout",
     "output_type": "stream",
     "text": [
      "[[1, 2, 3], [4, 2]]\n"
     ]
    }
   ],
   "source": [
    "def find_subarrays_with_sum(arr, target):\n",
    "    result = []\n",
    "    n = len(arr)\n",
    "\n",
    "    # Try every possible starting point\n",
    "    for start in range(n):\n",
    "        curr_sum = 0\n",
    "        # Try every possible end point from 'start'\n",
    "        for end in range(start, n):\n",
    "            curr_sum += arr[end]\n",
    "            if curr_sum == target:\n",
    "                result.append(arr[start:end+1])  # store the subarray\n",
    "\n",
    "    return result\n",
    "\n",
    "# Example usage\n",
    "arr = [1, 2, 3, 4, 2]\n",
    "target = 6\n",
    "print(find_subarrays_with_sum(arr, target))\n"
   ]
  },
  {
   "cell_type": "code",
   "execution_count": 8,
   "id": "5d00618a",
   "metadata": {},
   "outputs": [
    {
     "name": "stdout",
     "output_type": "stream",
     "text": [
      "1989\n"
     ]
    }
   ],
   "source": [
    "a=int(input())\n",
    "b=int(input())\n",
    "res=0\n",
    "for i in range(a,b+1):\n",
    "    c=i**3\n",
    "    res+=c\n",
    "print(res)"
   ]
  },
  {
   "cell_type": "code",
   "execution_count": 12,
   "id": "97831071",
   "metadata": {},
   "outputs": [
    {
     "name": "stdout",
     "output_type": "stream",
     "text": [
      "Maximum subarray sum is: 10\n"
     ]
    }
   ],
   "source": [
    "def max_subarray_sum(arr):\n",
    "    max_sum = float('-inf')  # Smallest possible number\n",
    "    current_sum = 0\n",
    "\n",
    "    for num in arr:\n",
    "        current_sum += num\n",
    "        max_sum = max(max_sum, current_sum)\n",
    "        if current_sum < 0:\n",
    "            current_sum = 0  # Reset if sum becomes negative\n",
    "\n",
    "    return max_sum\n",
    "\n",
    "# Example\n",
    "arr = [1,2,3,4]\n",
    "print(\"Maximum subarray sum is:\", max_subarray_sum(arr))\n"
   ]
  },
  {
   "cell_type": "code",
   "execution_count": 6,
   "id": "4812c8ea",
   "metadata": {},
   "outputs": [
    {
     "name": "stdout",
     "output_type": "stream",
     "text": [
      "6\n"
     ]
    }
   ],
   "source": [
    "def gcd(a,b):\n",
    "    if b==0:\n",
    "        return a\n",
    "    else:\n",
    "        return gcd(b,a%b)\n",
    "print(gcd(12,18))"
   ]
  },
  {
   "cell_type": "code",
   "execution_count": 24,
   "id": "f8d9a69e",
   "metadata": {},
   "outputs": [
    {
     "name": "stdout",
     "output_type": "stream",
     "text": [
      "11\n",
      "121\n"
     ]
    }
   ],
   "source": [
    "n=121\n",
    "res=[n]\n",
    "for i in range(2,int(n**0.5) + 1):\n",
    "    if n%i==0:\n",
    "        print(i)\n",
    "        if (n//i==i):\n",
    "            break   \n",
    "        res.append(n//i)       \n",
    "for i in res[::-1]:\n",
    "    print(i)\n"
   ]
  },
  {
   "cell_type": "code",
   "execution_count": 35,
   "id": "c1f13d57",
   "metadata": {},
   "outputs": [
    {
     "name": "stdout",
     "output_type": "stream",
     "text": [
      "Pairs with sum = 6 -> [(4, 2), (5, 1)]\n"
     ]
    }
   ],
   "source": [
    "def pairs_with_given_sum(arr, target):\n",
    "    pairs = []\n",
    "    seen = set()\n",
    "    \n",
    "    for num in arr:\n",
    "        if target - num in seen:\n",
    "            pairs.append((num, target - num))\n",
    "        seen.add(num)\n",
    "        \n",
    "    return pairs\n",
    "\n",
    "\n",
    "# Example usage:\n",
    "arr = [1, 2, 4, 5, 7]\n",
    "target = 6\n",
    "print(\"Pairs with sum =\", target, \"->\", pairs_with_given_sum(arr, target))\n"
   ]
  },
  {
   "cell_type": "code",
   "execution_count": 5,
   "id": "a7f55f49",
   "metadata": {},
   "outputs": [
    {
     "name": "stdout",
     "output_type": "stream",
     "text": [
      "yes\n"
     ]
    }
   ],
   "source": [
    "n=\"121\"\n",
    "res=\"\"\n",
    "for i in n[::-1]:\n",
    "    res+=i\n",
    "if res==n:\n",
    "    print(\"yes\")\n",
    "else:\n",
    "    print(\"no\")"
   ]
  },
  {
   "cell_type": "code",
   "execution_count": 12,
   "id": "1e956143",
   "metadata": {},
   "outputs": [
    {
     "name": "stdout",
     "output_type": "stream",
     "text": [
      "[[1, 1, 1, 1], [1, 2, 3, 4], [1, 3, 6, 10], [1, 4, 10, 20]]\n"
     ]
    }
   ],
   "source": [
    "def com(m,n):\n",
    "    ar=[[0]*n for i in range(m)]\n",
    "    for i in range(m):\n",
    "        ar[i][0]=1\n",
    "        # ar[i][m-1]=1\n",
    "    for j in range(n):\n",
    "        ar[0][j]=1\n",
    "        # ar[n-1][j]=1\n",
    "\n",
    "    for i in range(1,m):\n",
    "        for j in range(1,n):\n",
    "            ar[i][j]=ar[i-1][j]+ar[i][j-1]\n",
    "    return ar\n",
    "print(com(4,4))"
   ]
  },
  {
   "cell_type": "code",
   "execution_count": 16,
   "id": "ee925c37",
   "metadata": {},
   "outputs": [
    {
     "name": "stdout",
     "output_type": "stream",
     "text": [
      "9\n"
     ]
    }
   ],
   "source": [
    "ar=[6,5,9,2,10]\n",
    "\n",
    "for i in range(len(ar)-1):\n",
    "    for j in range(i+1,len(ar)):\n",
    "        if ar[i]>ar[j]:\n",
    "            ar[i],ar[j]=ar[j],ar[i]\n",
    "\n",
    "print(ar[-2])"
   ]
  },
  {
   "cell_type": "code",
   "execution_count": 35,
   "id": "c0436d9c",
   "metadata": {},
   "outputs": [
    {
     "data": {
      "text/plain": [
       "{0: 1}"
      ]
     },
     "execution_count": 35,
     "metadata": {},
     "output_type": "execute_result"
    }
   ],
   "source": [
    "cou={}\n",
    "cou[0]=1\n",
    "cou"
   ]
  },
  {
   "cell_type": "code",
   "execution_count": 23,
   "id": "460bdc73",
   "metadata": {},
   "outputs": [
    {
     "name": "stdout",
     "output_type": "stream",
     "text": [
      "l\n"
     ]
    }
   ],
   "source": [
    "from collections import Counter\n",
    "num=\"hello\"\n",
    "a=Counter(num)\n",
    "for u,v in a.items():\n",
    "    if v==max(a.values()):\n",
    "        print(u)\n"
   ]
  },
  {
   "cell_type": "code",
   "execution_count": 30,
   "id": "cc38a385",
   "metadata": {},
   "outputs": [
    {
     "name": "stdout",
     "output_type": "stream",
     "text": [
      "6\n"
     ]
    }
   ],
   "source": [
    "def gcd(a,b):\n",
    "    if b==0:\n",
    "        return a\n",
    "    else:\n",
    "        return gcd(min(a,b),max(a,b)%min(a,b))\n",
    "print(gcd(12,18))"
   ]
  },
  {
   "cell_type": "code",
   "execution_count": 25,
   "id": "349dac84",
   "metadata": {},
   "outputs": [
    {
     "name": "stdout",
     "output_type": "stream",
     "text": [
      "36\n"
     ]
    }
   ],
   "source": [
    "def lcm(a,b):\n",
    "    greater=max(a,b)\n",
    "    lesser=min(a,b)\n",
    "    \n",
    "    lv=greater\n",
    "    while lv%greater !=0 or lv%lesser !=0:\n",
    "        lv+=1\n",
    "    return lv\n",
    "print(lcm(12,18))"
   ]
  },
  {
   "cell_type": "markdown",
   "id": "5658fc11",
   "metadata": {},
   "source": [
    "CONSTRUCTING A TREE MANNUALY"
   ]
  },
  {
   "cell_type": "code",
   "execution_count": 25,
   "id": "14e08a71",
   "metadata": {},
   "outputs": [
    {
     "name": "stdout",
     "output_type": "stream",
     "text": [
      "2\n",
      "31\n"
     ]
    }
   ],
   "source": [
    "class Tree:\n",
    "    def __init__(self, k):\n",
    "        self.left = None\n",
    "        self.right = None\n",
    "        self.key = k\n",
    "\n",
    "    def __repr__(self):\n",
    "        return f'{self.key}'\n",
    "\n",
    "\n",
    "# Create nodes\n",
    "node = Tree(1)\n",
    "node.left = Tree(2)\n",
    "node.right = Tree(3)\n",
    "node.left.left = Tree(4)\n",
    "\n",
    "print(node.left)    \n",
    "code=Tree(24)\n",
    "code.left=Tree(26)\n",
    "code.right=Tree(28)\n",
    "code.right.left=31\n",
    "print(code.right.left)       # Prints: Tree(key=1)\n",
    "# print(node.left)      # Prints: Tree(key=2)\n",
    "# print(node.right)     # Prints: Tree(key=3)\n",
    "# print(node.left.left) # Prints: Tree(key=4)\n"
   ]
  },
  {
   "cell_type": "code",
   "execution_count": 10,
   "id": "6b8004ff",
   "metadata": {},
   "outputs": [
    {
     "data": {
      "text/plain": [
       "('alex', 22)"
      ]
     },
     "execution_count": 10,
     "metadata": {},
     "output_type": "execute_result"
    }
   ],
   "source": [
    "class person:\n",
    "    def __init__(self,h,y):\n",
    "        self.name=h\n",
    "        self.dob=y\n",
    "p=person(\"alex\",22)\n",
    "p.name,p.dob"
   ]
  },
  {
   "cell_type": "code",
   "execution_count": 2,
   "id": "e6b6b143",
   "metadata": {},
   "outputs": [
    {
     "name": "stdout",
     "output_type": "stream",
     "text": [
      "2\n"
     ]
    }
   ],
   "source": [
    "text=\"belloonxballoonxballoon\"\n",
    "dir={'b':0,\n",
    "     'a':0,\n",
    "     'l':0,\n",
    "     'o':0,\n",
    "     'n':0}\n",
    "for i in text:\n",
    "    if i in dir.keys():\n",
    "        dir[i]+=1\n",
    "for i,j in dir.items():\n",
    "    if i=='l' or i=='o':\n",
    "        dir[i]//=2\n",
    "\n",
    "print(min(dir['b'],dir['a'],dir['l'],dir['o'],dir['n']))"
   ]
  },
  {
   "cell_type": "code",
   "execution_count": 6,
   "id": "af5819ce",
   "metadata": {},
   "outputs": [
    {
     "data": {
      "text/plain": [
       "3"
      ]
     },
     "execution_count": 6,
     "metadata": {},
     "output_type": "execute_result"
    }
   ],
   "source": [
    "from collections import Counter\n",
    "count=Counter(text)\n",
    "count.get('b',0)"
   ]
  },
  {
   "cell_type": "code",
   "execution_count": null,
   "id": "5eeb2523",
   "metadata": {},
   "outputs": [
    {
     "data": {
      "text/plain": [
       "[[1, 2], [1, 3], [1, 4], [2, 3], [2, 4], [3, 4]]"
      ]
     },
     "execution_count": 20,
     "metadata": {},
     "output_type": "execute_result"
    }
   ],
   "source": [
    "from math import comb\n",
    "n,k=4,3\n",
    "a=comb(n,k)\n",
    "while k<n:\n"
   ]
  },
  {
   "cell_type": "code",
   "execution_count": 2,
   "id": "ecbb8e25",
   "metadata": {},
   "outputs": [
    {
     "name": "stderr",
     "output_type": "stream",
     "text": [
      "C:\\Users\\Sri Aravindh\\AppData\\Local\\Temp\\ipykernel_3196\\2980702318.py:4: DtypeWarning: Columns (1) have mixed types. Specify dtype option on import or set low_memory=False.\n",
      "  df = pd.read_csv(r\"C:\\Users\\Sri Aravindh\\Downloads\\predicted_sentiments.csv\")\n"
     ]
    },
    {
     "data": {
      "text/plain": [
       "118957"
      ]
     },
     "execution_count": 2,
     "metadata": {},
     "output_type": "execute_result"
    }
   ],
   "source": [
    "import pandas as pd\n",
    "\n",
    "# Example: Load your dataset\n",
    "df = pd.read_csv(r\"C:\\Users\\Sri Aravindh\\Downloads\\predicted_sentiments.csv\")\n",
    "\n",
    "df[\"userName\"].nunique()\n"
   ]
  },
  {
   "cell_type": "code",
   "execution_count": 3,
   "id": "bba0f5be",
   "metadata": {},
   "outputs": [
    {
     "data": {
      "text/plain": [
       "86135"
      ]
     },
     "execution_count": 3,
     "metadata": {},
     "output_type": "execute_result"
    }
   ],
   "source": [
    "df[\"itemName\"].nunique()"
   ]
  }
 ],
 "metadata": {
  "kernelspec": {
   "display_name": "Python 3",
   "language": "python",
   "name": "python3"
  },
  "language_info": {
   "codemirror_mode": {
    "name": "ipython",
    "version": 3
   },
   "file_extension": ".py",
   "mimetype": "text/x-python",
   "name": "python",
   "nbconvert_exporter": "python",
   "pygments_lexer": "ipython3",
   "version": "3.11.5"
  }
 },
 "nbformat": 4,
 "nbformat_minor": 5
}
