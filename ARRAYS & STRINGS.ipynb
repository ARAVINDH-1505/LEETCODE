{
 "cells": [
  {
   "cell_type": "markdown",
   "id": "92f2fd7f",
   "metadata": {},
   "source": [
    "Find Closest Number to Zero"
   ]
  },
  {
   "cell_type": "code",
   "execution_count": 3,
   "id": "4dc67ddc",
   "metadata": {},
   "outputs": [
    {
     "name": "stdout",
     "output_type": "stream",
     "text": [
      "1\n"
     ]
    }
   ],
   "source": [
    "def findClosestNumber(nums):\n",
    "    \"\"\"\n",
    "    :type nums: List[int]\n",
    "    :rtype: int\n",
    "    \"\"\"\n",
    "    close=nums[0]\n",
    "    for i in nums:\n",
    "        if abs(i)<abs(close):\n",
    "            close=i\n",
    "    if close<0 and abs(close) in nums:\n",
    "        return abs(close)\n",
    "    else:\n",
    "        return close\n",
    "nums=[-1,2,3,4,1]\n",
    "print(findClosestNumber(nums))"
   ]
  },
  {
   "cell_type": "markdown",
   "id": "2df5fcf0",
   "metadata": {},
   "source": [
    "Merge Strings Alternately"
   ]
  },
  {
   "cell_type": "code",
   "execution_count": 18,
   "id": "4ce47fcf",
   "metadata": {},
   "outputs": [
    {
     "name": "stdout",
     "output_type": "stream",
     "text": [
      "apbqcr\n"
     ]
    }
   ],
   "source": [
    "class Solution(object):\n",
    "    def mergeAlternately(self, word1, word2):\n",
    "        \"\"\"\n",
    "        :type word1: str\n",
    "        :type word2: str\n",
    "        :rtype: str\n",
    "        \"\"\"\n",
    "        st=\"\"\n",
    "        if len(word1)>len(word2):\n",
    "            for i in range(0,len(word2)):\n",
    "                st=st+word1[i]\n",
    "                st=st+word2[i]\n",
    "            st=st+word1[len(word2):len(word1)]\n",
    "        else:\n",
    "            for i in range(0,len(word1)):\n",
    "                st=st+word1[i]\n",
    "                st=st+word2[i]\n",
    "            st=st+word2[len(word1):len(word2)]\n",
    "        return st\n",
    "s=Solution()\n",
    "print(s.mergeAlternately(\"abc\",\"pqr\"))\n",
    "        "
   ]
  },
  {
   "cell_type": "markdown",
   "id": "fc7cac08",
   "metadata": {},
   "source": [
    "Roman to Integer"
   ]
  },
  {
   "cell_type": "code",
   "execution_count": 19,
   "id": "13ddd18e",
   "metadata": {},
   "outputs": [
    {
     "name": "stdout",
     "output_type": "stream",
     "text": [
      "27\n"
     ]
    }
   ],
   "source": [
    "class Solution:\n",
    "    def romanToInt(self, s):\n",
    "        translations = {\n",
    "            \"I\": 1,\n",
    "            \"V\": 5,\n",
    "            \"X\": 10,\n",
    "            \"L\": 50,\n",
    "            \"C\": 100,\n",
    "            \"D\": 500,\n",
    "            \"M\": 1000\n",
    "        }\n",
    "        number = 0\n",
    "        s = s.replace(\"IV\", \"IIII\").replace(\"IX\", \"VIIII\")\n",
    "        s = s.replace(\"XL\", \"XXXX\").replace(\"XC\", \"LXXXX\")\n",
    "        s = s.replace(\"CD\", \"CCCC\").replace(\"CM\", \"DCCCC\")\n",
    "        for char in s:\n",
    "            number += translations[char]\n",
    "        return number\n",
    "s=Solution()\n",
    "print(s.romanToInt(\"XXVII\"))"
   ]
  },
  {
   "cell_type": "markdown",
   "id": "a0fcd034",
   "metadata": {},
   "source": [
    "    S Is Subsequence T"
   ]
  },
  {
   "cell_type": "code",
   "execution_count": 27,
   "id": "981b47d9",
   "metadata": {},
   "outputs": [
    {
     "name": "stdout",
     "output_type": "stream",
     "text": [
      "si 1 ti 0\n",
      "si 1 ti 1\n",
      "si 2 ti 2\n",
      "si 2 ti 3\n"
     ]
    },
    {
     "data": {
      "text/plain": [
       "True"
      ]
     },
     "execution_count": 27,
     "metadata": {},
     "output_type": "execute_result"
    }
   ],
   "source": [
    "def isSubsequence(s, t):\n",
    "        \"\"\"\n",
    "        :type s: str\n",
    "        :type t: str\n",
    "        :rtype: bool\n",
    "        \"\"\"\n",
    "        if len(s) == 0 and len(t) == 0:\n",
    "            return True\n",
    "        if len(t) == 0:\n",
    "            return False\n",
    "        if len(s) == 0:\n",
    "            return True\n",
    "        si = 0\n",
    "        ti = 0\n",
    "        while ti < len(t):\n",
    "            \n",
    "            if s[si] == t[ti]:\n",
    "                si += 1\n",
    "            if si == len(s):\n",
    "                return True\n",
    "            print(\"si\", si, \"ti\", ti)\n",
    "            ti += 1\n",
    "        return False\n",
    "isSubsequence(\"axc\",\"ahxqc\")"
   ]
  },
  {
   "cell_type": "markdown",
   "id": "e0e817ba",
   "metadata": {},
   "source": [
    "Best Time to Buy and Sell Stock"
   ]
  },
  {
   "cell_type": "code",
   "execution_count": 31,
   "id": "49977dd8",
   "metadata": {},
   "outputs": [
    {
     "name": "stdout",
     "output_type": "stream",
     "text": [
      "32\n"
     ]
    }
   ],
   "source": [
    "class Solution:\n",
    "    def maxProfit(self, prices):\n",
    "        buy = prices[0]\n",
    "        profit = 0\n",
    "        for i in range(1, len(prices)):\n",
    "            if prices[i] < buy:\n",
    "                buy = prices[i]\n",
    "            elif prices[i] - buy > profit:\n",
    "                profit = prices[i] - buy\n",
    "        return profit \n",
    "s=Solution()\n",
    "print(s.maxProfit([3,4,2,7,11,34,1,21]))"
   ]
  },
  {
   "cell_type": "markdown",
   "id": "9d5b37cd",
   "metadata": {},
   "source": [
    "Longest Common Prefix"
   ]
  },
  {
   "cell_type": "code",
   "execution_count": 1,
   "id": "11986c74",
   "metadata": {},
   "outputs": [
    {
     "name": "stdout",
     "output_type": "stream",
     "text": [
      "do\n"
     ]
    }
   ],
   "source": [
    "class Solution(object):\n",
    "    def longestCommonPrefix(self,strs):\n",
    "        if not strs:\n",
    "           return \"\"\n",
    "    \n",
    "        s = \"\"\n",
    "        first_str = strs[0]\n",
    "        for i in range(len(first_str)):\n",
    "            char = first_str[i]\n",
    "            for other_str in strs:\n",
    "                if i >= len(other_str) or other_str[i] != char:\n",
    "                   return s\n",
    "            s += char\n",
    "\n",
    "        return s\n",
    "s=Solution()\n",
    "print(s.longestCommonPrefix([\"dog\",\"donot\",\"domain\"]))"
   ]
  },
  {
   "cell_type": "markdown",
   "id": "43cf916b",
   "metadata": {},
   "source": [
    "Summary Ranges"
   ]
  },
  {
   "cell_type": "code",
   "execution_count": 8,
   "id": "223dffd9",
   "metadata": {},
   "outputs": [
    {
     "name": "stdout",
     "output_type": "stream",
     "text": [
      "['0->2', '4->5', '7']\n"
     ]
    }
   ],
   "source": [
    "def summaryRanges(nums):\n",
    "    result = []\n",
    "    i = 0\n",
    "    while i < len(nums):\n",
    "        start = i\n",
    "        while i + 1 < len(nums) and nums[i + 1] == nums[i] + 1:\n",
    "            i += 1\n",
    "        end = i\n",
    "        if start == end:\n",
    "            result.append(str(nums[start]))\n",
    "        else:\n",
    "           result.append(str(nums[start]) + \"->\" + str(nums[end]))\n",
    "        i += 1\n",
    "    return result\n",
    "\n",
    "# Test\n",
    "nums = [0, 1, 2, 4, 5, 7]\n",
    "print(summaryRanges(nums))  # ✅ Output: ['0->2', '4->5', '7']\n"
   ]
  },
  {
   "cell_type": "code",
   "execution_count": null,
   "id": "bacf7ca7",
   "metadata": {},
   "outputs": [],
   "source": []
  }
 ],
 "metadata": {
  "kernelspec": {
   "display_name": "Python 3",
   "language": "python",
   "name": "python3"
  },
  "language_info": {
   "codemirror_mode": {
    "name": "ipython",
    "version": 3
   },
   "file_extension": ".py",
   "mimetype": "text/x-python",
   "name": "python",
   "nbconvert_exporter": "python",
   "pygments_lexer": "ipython3",
   "version": "3.11.5"
  }
 },
 "nbformat": 4,
 "nbformat_minor": 5
}
